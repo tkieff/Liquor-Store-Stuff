{
 "cells": [
  {
   "cell_type": "code",
   "execution_count": 1,
   "id": "53cf8229",
   "metadata": {},
   "outputs": [],
   "source": [
    "from splinter.browser import Browser\n",
    "executable_path = {'executable_path':'/Users/thomaskieffer/chromedriver'}\n",
    "br = Browser('chrome', **executable_path)"
   ]
  },
  {
   "cell_type": "code",
   "execution_count": 2,
   "id": "e2daf620",
   "metadata": {},
   "outputs": [
    {
     "name": "stderr",
     "output_type": "stream",
     "text": [
      "/Users/thomaskieffer/opt/anaconda3/lib/python3.8/site-packages/selenium/webdriver/remote/webdriver.py:742: UserWarning: find_elements_by_* commands are deprecated. Please use find_elements() instead\n",
      "  warnings.warn(\"find_elements_by_* commands are deprecated. Please use find_elements() instead\")\n"
     ]
    },
    {
     "data": {
      "text/plain": [
       "'$14.29'"
      ]
     },
     "execution_count": 2,
     "metadata": {},
     "output_type": "execute_result"
    }
   ],
   "source": [
    "br.visit('http://www.bcliquorstores.com/product-catalogue?category=beer&sort=name.raw:asc&page=1')\n",
    "test = br.find_by_css('div[class=\"product-price\"]')\n",
    "test[1].value"
   ]
  },
  {
   "cell_type": "code",
   "execution_count": 5,
   "id": "e2633fe8",
   "metadata": {},
   "outputs": [
    {
     "name": "stderr",
     "output_type": "stream",
     "text": [
      "/Users/thomaskieffer/opt/anaconda3/lib/python3.8/site-packages/selenium/webdriver/remote/webelement.py:501: UserWarning: find_elements_by_* commands are deprecated. Please use find_elements() instead\n",
      "  warnings.warn(\"find_elements_by_* commands are deprecated. Please use find_elements() instead\")\n"
     ]
    }
   ],
   "source": [
    "filename = 'prices.csv'\n",
    "headers = 'sku, product name, price, Description, Sale Price, End Date\\n'\n",
    "f = open(filename, \"w\")\n",
    "f.write(headers)\n",
    "#beer\n",
    "for j in range(1,22):\n",
    "    br.visit(f'http://www.bcliquorstores.com/product-catalogue?category=beer&sort=name.raw:asc&page={j}')\n",
    "    data = br.find_by_css('div[class=\"product-description-container\"]')\n",
    "    for i in range(0,len(data)):\n",
    "         price = data[i].find_by_css('div[class=\"product-price\"]').value\n",
    "         name = data[i].find_by_css('h3[class=\"product-name\"]').value\n",
    "         desc = data[i].find_by_css('div[class=\"product-subtext\"]').value\n",
    "         sku = data[i].find_by_css('div[class=\"product-description-container\"] a')\n",
    "         salePrice = data[i].find_by_css('div[class=\"onsale-product-price\"]').value\n",
    "         endDate = data[i].find_by_css('span[class=\"offer-date\"]').value\n",
    "        \n",
    "         if salePrice is None :\n",
    "             salePrice = ''\n",
    "             endDate = ''\n",
    "         f.write(sku['href'][38:] + ', ' + name +', '+ price +', '+ desc+',' + salePrice + ','+ endDate+'\\n')\n",
    "#spirits\n",
    "for j in range(1,53):\n",
    "     br.visit(f'http://www.bcliquorstores.com/product-catalogue?category=spirits&sort=name.raw:asc&page={j}')\n",
    "     data = br.find_by_css('div[class=\"product-description-container\"]')\n",
    "     for i in range(0,len(data)):\n",
    "         price = data[i].find_by_css('div[class=\"product-price\"]').value\n",
    "         name = data[i].find_by_css('h3[class=\"product-name\"]').value\n",
    "         desc = data[i].find_by_css('div[class=\"product-subtext\"]').value\n",
    "         sku = data[i].find_by_css('div[class=\"product-description-container\"] a')\n",
    "         salePrice = data[i].find_by_css('div[class=\"onsale-product-price\"]').value\n",
    "         endDate = data[i].find_by_css('span[class=\"offer-date\"]').value\n",
    "        \n",
    "         if salePrice is None :\n",
    "             salePrice = ''\n",
    "             endDate = ''\n",
    "         f.write(sku['href'][38:] + ', ' + name +', '+ price +', '+ desc+',' + salePrice + ','+ endDate+'\\n')\n",
    "\n",
    "#wine\n",
    "for j in range(1,143):\n",
    "    br.visit(f'http://www.bcliquorstores.com/product-catalogue?category=wine&sort=name.raw:asc&page={j}')\n",
    "    data = br.find_by_css('div[class=\"product-description-container\"]')\n",
    "    for i in range(0,len(data)):\n",
    "        price = data[i].find_by_css('div[class=\"product-price\"]').value\n",
    "        name = data[i].find_by_css('h3[class=\"product-name\"]').value\n",
    "        desc = data[i].find_by_css('div[class=\"product-subtext\"]').value\n",
    "        sku = data[i].find_by_css('div[class=\"product-description-container\"] a')\n",
    "        salePrice = data[i].find_by_css('div[class=\"onsale-product-price\"]').value\n",
    "        endDate = data[i].find_by_css('span[class=\"offer-date\"]').value\n",
    "        \n",
    "        if salePrice is None :\n",
    "            salePrice = ''\n",
    "            endDate = ''\n",
    "        f.write(sku['href'][38:] + ', ' + name +', '+ price +', '+ desc+',' + salePrice + ','+ endDate+'\\n')\n",
    "        \n",
    "#cides & coolers\n",
    "for j in range(1,8):\n",
    "    br.visit(f'http://www.bcliquorstores.com/product-catalogue?category=coolers/ciders&sort=name.raw:asc&page={j}')\n",
    "    data = br.find_by_css('div[class=\"product-description-container\"]')\n",
    "    for i in range(0,len(data)):\n",
    "        price = data[i].find_by_css('div[class=\"product-price\"]').value\n",
    "        name = data[i].find_by_css('h3[class=\"product-name\"]').value\n",
    "        desc = data[i].find_by_css('div[class=\"product-subtext\"]').value\n",
    "        sku = data[i].find_by_css('div[class=\"product-description-container\"] a')\n",
    "        salePrice = data[i].find_by_css('div[class=\"onsale-product-price\"]').value\n",
    "        endDate = data[i].find_by_css('span[class=\"offer-date\"]').value\n",
    "        \n",
    "        if salePrice is None :\n",
    "            salePrice = ''\n",
    "            endDate = ''\n",
    "        f.write(sku['href'][38:] + ', ' + name +', '+ price +', '+ desc+',' + salePrice + ','+ endDate+'\\n')\n",
    "f.close()"
   ]
  },
  {
   "cell_type": "code",
   "execution_count": null,
   "id": "827b9bf1",
   "metadata": {},
   "outputs": [],
   "source": []
  }
 ],
 "metadata": {
  "kernelspec": {
   "display_name": "Python 3",
   "language": "python",
   "name": "python3"
  },
  "language_info": {
   "codemirror_mode": {
    "name": "ipython",
    "version": 3
   },
   "file_extension": ".py",
   "mimetype": "text/x-python",
   "name": "python",
   "nbconvert_exporter": "python",
   "pygments_lexer": "ipython3",
   "version": "3.8.8"
  }
 },
 "nbformat": 4,
 "nbformat_minor": 5
}
